{
 "cells": [
  {
   "cell_type": "markdown",
   "id": "49b5eea5",
   "metadata": {},
   "source": [
    "## Nama Anggota Kelompok"
   ]
  },
  {
   "cell_type": "markdown",
   "id": "d91bb19a",
   "metadata": {},
   "source": [
    "- Dhimas Prakasa Henjo (2009106015) (KETUA)\n",
    "- Giovani Chadavi Hidayat (2009106001)\n",
    "tese"
   ]
  },
  {
   "cell_type": "markdown",
   "id": "c4a4c682",
   "metadata": {},
   "source": [
    "## Job Desk"
   ]
  },
  {
   "cell_type": "markdown",
   "id": "55a041f0",
   "metadata": {},
   "source": [
    "- Dhimas Prakasa Henjo = Data Collecing, Data Preprocessing, Data Analisis dan Visualisasi\n",
    "\n",
    "- Giovani Chadavi Hidayat = Data Modelling, Evaluasi, dan predict"
   ]
  },
  {
   "cell_type": "markdown",
   "id": "5201d790",
   "metadata": {},
   "source": [
    "## Penjelasan Dataset"
   ]
  },
  {
   "cell_type": "markdown",
   "id": "7b9af7d2",
   "metadata": {},
   "source": [
    "Dataset yang kami gunakan berasal dari Kaggle dengan link sebagai berikut:\n",
    "https://www.kaggle.com/datasets/ghousethanedar/smiledetection\n",
    "\n",
    "Dataset Terdiri dari 2800 Gambar dari 2 Class:\n",
    "1. Senyum = 1562 Gambar\n",
    "2. Tidak Senyum = 1238 Gambar"
   ]
  },
  {
   "cell_type": "markdown",
   "id": "ea9f2813",
   "metadata": {},
   "source": [
    "## Penjelasan Project"
   ]
  },
  {
   "cell_type": "markdown",
   "id": "e55eb802",
   "metadata": {},
   "source": [
    "Wajah Manusia dapat dilihat sedang senyum atau tidak senyum dengan Mata Manusia. Proyek ini dapat mendeteksi wajah manusia yang sedang tersenyum atau tidak tersenyum"
   ]
  },
  {
   "cell_type": "markdown",
   "id": "33518373",
   "metadata": {},
   "source": [
    "## Table of Contect"
   ]
  },
  {
   "cell_type": "markdown",
   "id": "b8ae1d58",
   "metadata": {},
   "source": [
    "1.  Nama Anggota Kelompok\n",
    "2.  JOBDESK\n",
    "3.  Penjelasan dataset\n",
    "4.  Penjelasan project\n",
    "5.  Table of Content\n",
    "6.  Import Library\n",
    "7.  Data Collecting\n",
    "8.  Data Preprocessing\n",
    "9.  Data Analysis and Visualization\n",
    "10. Data Modeling\n",
    "11. Evaluasi"
   ]
  },
  {
   "cell_type": "markdown",
   "id": "8bada524",
   "metadata": {},
   "source": [
    "## Import Library"
   ]
  },
  {
   "cell_type": "code",
   "execution_count": 90,
   "id": "5dfc2cc4",
   "metadata": {},
   "outputs": [],
   "source": [
    "import numpy as np\n",
    "import pandas as pd \n",
    "import matplotlib.pyplot as plt\n",
    "import tensorflow as tf\n",
    "import keras, os, cv2\n",
    "import splitfolders\n",
    "import seaborn as sns\n",
    "import matplotlib.image as mpig\n",
    "from keras.preprocessing import image\n",
    "from keras_preprocessing.image import ImageDataGenerator\n",
    "from keras.models import Sequential, Model\n",
    "from keras.layers import Dense, Dropout, Flatten, Conv2D, MaxPooling2D, Concatenate, Input\n",
    "from tensorflow.keras import layers, optimizers, datasets\n",
    "from tensorflow.keras.optimizers import SGD\n",
    "from sklearn import preprocessing\n",
    "from pathlib import Path\n",
    "from skimage.io import imread, imshow\n",
    "from skimage.color import rgb2gray\n",
    "from skimage.transform import rescale"
   ]
  },
  {
   "cell_type": "markdown",
   "id": "6b833dd1",
   "metadata": {},
   "source": [
    "## Data Collecting"
   ]
  },
  {
   "cell_type": "markdown",
   "id": "56a98cd9",
   "metadata": {},
   "source": [
    "### Read Data"
   ]
  },
  {
   "cell_type": "code",
   "execution_count": 43,
   "id": "2e792ea7",
   "metadata": {},
   "outputs": [],
   "source": [
    "base_path = r'./../datasets/train_folder'"
   ]
  },
  {
   "cell_type": "code",
   "execution_count": 44,
   "id": "c2eaab64",
   "metadata": {},
   "outputs": [
    {
     "name": "stderr",
     "output_type": "stream",
     "text": [
      "Copying files: 2800 files [00:02, 1378.56 files/s]\n"
     ]
    }
   ],
   "source": [
    "# Membagi Data Pada Train_Folder menjadi 70% Training, 20% Validation, dan 10% Testing\n",
    "splitfolders.ratio(\n",
    "    base_path,\n",
    "    output='PA',\n",
    "    ratio=(.70,.20,.10)\n",
    ")"
   ]
  },
  {
   "cell_type": "code",
   "execution_count": 45,
   "id": "89f22508",
   "metadata": {},
   "outputs": [],
   "source": [
    "train_path = r'./PA/train' #train (data latih)\n",
    "test_path = r'./PA/test' #test (data testing untuk menguji model)\n",
    "val_path = r'./PA/val' #validation (validasi untuk data latih)"
   ]
  },
  {
   "cell_type": "markdown",
   "id": "315cf256",
   "metadata": {},
   "source": [
    "## Data Preprocessing"
   ]
  },
  {
   "cell_type": "markdown",
   "id": "db28b144",
   "metadata": {},
   "source": [
    "### Augmentasi Data"
   ]
  },
  {
   "cell_type": "code",
   "execution_count": 46,
   "id": "6aecdb1e",
   "metadata": {},
   "outputs": [],
   "source": [
    "image_path= r'./PA'\n",
    "train_datagen = ImageDataGenerator(\n",
    "    image_path,\n",
    "    rescale=1./255, #nilai yang dengannya kita akan mengalikan data sebelum pemrosesan lainnya. antara 0 dan 1\n",
    "    horizontal_flip = True, #membalik separuh gambar secara acak\n",
    "    rotation_range= 30, #nilai dalam derajat (0-180), rentang untuk memutar gambar secara acak\n",
    "    shear_range=.2, #menerapkan transformasi geser secara acak dengan skala 0.2\n",
    "    zoom_range=.2, #menerapkan transformasi geser secara acak dengan range 0.2\n",
    "    fill_mode='nearest' #strategi yang digunakan untuk mengisi piksel yang baru dibuat, yang dapat muncul setelah rotasi atau pergeseran lebar/tinggi.\n",
    "    \n",
    ")\n",
    "\n",
    "val_datagen = ImageDataGenerator(\n",
    "    image_path,\n",
    "    rescale=1./255, \n",
    ")\n",
    "\n",
    "test_datagen = ImageDataGenerator(\n",
    "    image_path,\n",
    "    rescale=1./255, \n",
    ")\n"
   ]
  },
  {
   "cell_type": "markdown",
   "id": "dd38faba",
   "metadata": {},
   "source": [
    "### Load Data"
   ]
  },
  {
   "cell_type": "code",
   "execution_count": 47,
   "id": "6d4a5e11",
   "metadata": {},
   "outputs": [
    {
     "name": "stdout",
     "output_type": "stream",
     "text": [
      "Banyak Data Traning : Found 1959 images belonging to 2 classes.\n",
      "Banyak Data Testing : Found 282 images belonging to 2 classes.\n",
      "Banyak Data Validation : Found 559 images belonging to 2 classes.\n"
     ]
    }
   ],
   "source": [
    "print('Banyak Data Traning : ', end=\"\")\n",
    "train_generator = train_datagen.flow_from_directory(\n",
    "    train_path, #mengarahkan ke directory train\n",
    "    target_size = (50,50), #semua gambar akan diubah ukurannya menjadi 150x150\n",
    "    shuffle=True, #akan mengacak data. Bawaan: Benar. Jika disetel ke False, urutkan data dalam urutan alfanumerik.\n",
    "    batch_size = 32, #ukuran kumpulan data\n",
    "    class_mode ='binary' # berarti bahwa label (hanya boleh ada 2)\n",
    "    \n",
    ")\n",
    "\n",
    "print('Banyak Data Testing : ', end=\"\")\n",
    "test_generator = test_datagen.flow_from_directory(\n",
    "    test_path, #mengarahkan ke directory test\n",
    "    target_size = (50,50),\n",
    "    shuffle=True,\n",
    "    batch_size = 32,\n",
    "    class_mode ='binary'\n",
    "    \n",
    ")\n",
    "\n",
    "print('Banyak Data Validation : ', end=\"\")\n",
    "val_generator = val_datagen.flow_from_directory(\n",
    "    val_path, #mengarahkan ke directory val\n",
    "    target_size = (50,50),\n",
    "    shuffle=True,\n",
    "    batch_size = 32,\n",
    "    class_mode ='binary'\n",
    "    \n",
    ")"
   ]
  },
  {
   "cell_type": "markdown",
   "id": "a0f6cc1b",
   "metadata": {},
   "source": [
    "## Data Analisis Dan Visualisasi"
   ]
  },
  {
   "cell_type": "code",
   "execution_count": 48,
   "id": "df5ddeed",
   "metadata": {},
   "outputs": [
    {
     "name": "stdout",
     "output_type": "stream",
     "text": [
      "(32, 50, 50, 3)\n"
     ]
    },
    {
     "data": {
      "image/png": "[encoded data removed]",
      "text/plain": [
       "<Figure size 216x216 with 1 Axes>"
      ]
     },
     "metadata": {},
     "output_type": "display_data"
    },
    {
     "name": "stdout",
     "output_type": "stream",
     "text": [
      "(32, 50, 50, 3)\n"
     ]
    },
    {
     "data": {
      "image/png": "[encoded data removed]",
      "text/plain": [
       "<Figure size 216x216 with 1 Axes>"
      ]
     },
     "metadata": {},
     "output_type": "display_data"
    },
    {
     "name": "stdout",
     "output_type": "stream",
     "text": [
      "(32, 50, 50, 3)\n"
     ]
    },
    {
     "data": {
      "image/png": "[encoded data removed]",
      "text/plain": [
       "<Figure size 216x216 with 1 Axes>"
      ]
     },
     "metadata": {},
     "output_type": "display_data"
    },
    {
     "name": "stdout",
     "output_type": "stream",
     "text": [
      "(32, 50, 50, 3)\n"
     ]
    },
    {
     "data": {
      "image/png": "[encoded data removed]",
      "text/plain": [
       "<Figure size 216x216 with 1 Axes>"
      ]
     },
     "metadata": {},
     "output_type": "display_data"
    },
    {
     "name": "stdout",
     "output_type": "stream",
     "text": [
      "(32, 50, 50, 3)\n"
     ]
    },
    {
     "data": {
      "image/png": "[encoded data removed]",
      "text/plain": [
       "<Figure size 216x216 with 1 Axes>"
      ]
     },
     "metadata": {},
     "output_type": "display_data"
    },
    {
     "name": "stdout",
     "output_type": "stream",
     "text": [
      "(32, 50, 50, 3)\n"
     ]
    },
    {
     "data": {
      "image/png": "[encoded data removed]",
      "text/plain": [
       "<Figure size 216x216 with 1 Axes>"
      ]
     },
     "metadata": {},
     "output_type": "display_data"
    },
    {
     "name": "stdout",
     "output_type": "stream",
     "text": [
      "(32, 50, 50, 3)\n"
     ]
    },
    {
     "data": {
      "image/png": "[encoded data removed]",
      "text/plain": [
       "<Figure size 216x216 with 1 Axes>"
      ]
     },
     "metadata": {},
     "output_type": "display_data"
    },
    {
     "name": "stdout",
     "output_type": "stream",
     "text": [
      "(32, 50, 50, 3)\n"
     ]
    },
    {
     "data": {
      "image/png": "[encoded data removed]",
      "text/plain": [
       "<Figure size 216x216 with 1 Axes>"
      ]
     },
     "metadata": {},
     "output_type": "display_data"
    },
    {
     "name": "stdout",
     "output_type": "stream",
     "text": [
      "(32, 50, 50, 3)\n"
     ]
    },
    {
     "data": {
      "image/png": "[encoded data removed]",
      "text/plain": [
       "<Figure size 216x216 with 1 Axes>"
      ]
     },
     "metadata": {},
     "output_type": "display_data"
    },
    {
     "name": "stdout",
     "output_type": "stream",
     "text": [
      "(32, 50, 50, 3)\n"
     ]
    },
    {
     "data": {
      "image/png": "[encoded data removed]",
      "text/plain": [
       "<Figure size 216x216 with 1 Axes>"
      ]
     },
     "metadata": {},
     "output_type": "display_data"
    }
   ],
   "source": [
    "for i in range(10): #perulangan dengan menampilkan 10 gambar\n",
    "    img, label = train_generator.next()\n",
    "    print(img.shape)\n",
    "    plt.figure(figsize=(3, 3))\n",
    "    plt.imshow(img[0])\n",
    "    if(label[0] == 0.0):\n",
    "        plt.title(\"Senyum\")\n",
    "    else:\n",
    "        plt.title(\"Tidak Senyum\")\n",
    "    plt.axis(\"Off\") #menghilangkan grid\n",
    "    plt.show() #menampilkan gambar"
   ]
  },
  {
   "cell_type": "markdown",
   "id": "2e82a06c",
   "metadata": {},
   "source": [
    "### menampikan visualisasi jumlah data dari 2 class"
   ]
  },
  {
   "cell_type": "code",
   "execution_count": 49,
   "id": "680affed",
   "metadata": {},
   "outputs": [],
   "source": [
    "label_name= ['senyum','tidak_senyum']"
   ]
  },
  {
   "cell_type": "code",
   "execution_count": 50,
   "id": "d0620807",
   "metadata": {},
   "outputs": [
    {
     "data": {
      "image/png": "[encoded data removed]",
      "text/plain": [
       "<Figure size 864x576 with 1 Axes>"
      ]
     },
     "metadata": {},
     "output_type": "display_data"
    }
   ],
   "source": [
    "plt.figure(figsize=(12, 8))\n",
    "sns.set_theme()\n",
    "\n",
    "sns.countplot(x=label_name)\n",
    "plt.xlabel('Labels')\n",
    "plt.ylabel('Jumlah')\n",
    "plt.title('Visualisasi 2 Kelas Data')\n",
    "plt.show()"
   ]
  },
  {
   "cell_type": "markdown",
   "id": "bf958bd9",
   "metadata": {},
   "source": [
    "## Data Modelling"
   ]
  },
  {
   "cell_type": "code",
   "execution_count": 51,
   "id": "b65b1fae",
   "metadata": {},
   "outputs": [],
   "source": [
    "model = Sequential([\n",
    "    Conv2D(128, (3,3), activation='relu', input_shape=(50,50, 3)),\n",
    "    MaxPooling2D(2,2),\n",
    "    Conv2D(128, (3,3), activation='relu'),\n",
    "    MaxPooling2D(2,2),\n",
    "    Flatten(),\n",
    "    Dense(1, activation='sigmoid')\n",
    "\n",
    "])"
   ]
  },
  {
   "cell_type": "code",
   "execution_count": 52,
   "id": "3eff2186",
   "metadata": {},
   "outputs": [
    {
     "name": "stdout",
     "output_type": "stream",
     "text": [
      "Model: \"sequential_4\"\n",
      "_________________________________________________________________\n",
      " Layer (type)                Output Shape              Param #   \n",
      "=================================================================\n",
      " conv2d_8 (Conv2D)           (None, 48, 48, 128)       3584      \n",
      "                                                                 \n",
      " max_pooling2d_8 (MaxPooling  (None, 24, 24, 128)      0         \n",
      " 2D)                                                             \n",
      "                                                                 \n",
      " conv2d_9 (Conv2D)           (None, 22, 22, 128)       147584    \n",
      "                                                                 \n",
      " max_pooling2d_9 (MaxPooling  (None, 11, 11, 128)      0         \n",
      " 2D)                                                             \n",
      "                                                                 \n",
      " flatten_4 (Flatten)         (None, 15488)             0         \n",
      "                                                                 \n",
      " dense_4 (Dense)             (None, 1)                 15489     \n",
      "                                                                 \n",
      "=================================================================\n",
      "Total params: 166,657\n",
      "Trainable params: 166,657\n",
      "Non-trainable params: 0\n",
      "_________________________________________________________________\n"
     ]
    }
   ],
   "source": [
    "model.summary() #Untuk Melihat Struktur Model yang sudah kita buat"
   ]
  },
  {
   "cell_type": "code",
   "execution_count": 53,
   "id": "a59cfa00",
   "metadata": {},
   "outputs": [],
   "source": [
    "#Compile model \n",
    "\n",
    "model.compile(\n",
    "    optimizer=tf.keras.optimizers.Adam(), #merupakan metode optimasi yang digunakan.\n",
    "    loss=tf.keras.losses.binary_crossentropy, #adalah metode pengukuran nilai loss berdasarkan pada nilai apa. karena Membuat flow datanya kita menggunakan binary sehingga pada nilai loss ini kita juga menggunakan binary loss.\n",
    "    metrics=['accuracy'] #nilai matriks yang diukur pada project ini kita menggunakan nilai akurasi sebagai nilai pengukurannya\n",
    ")"
   ]
  },
  {
   "cell_type": "code",
   "execution_count": 54,
   "id": "abc09776",
   "metadata": {},
   "outputs": [
    {
     "name": "stdout",
     "output_type": "stream",
     "text": [
      "Epoch 1/20\n"
     ]
    },
    {
     "name": "stderr",
     "output_type": "stream",
     "text": [
      "C:\\Users\\ASUS\\AppData\\Roaming\\Python\\Python39\\site-packages\\keras\\preprocessing\\image.py:1861: UserWarning: This ImageDataGenerator specifies `featurewise_center`, but it hasn't been fit on any training data. Fit it first by calling `.fit(numpy_data)`.\n",
      "  warnings.warn(\n"
     ]
    },
    {
     "name": "stdout",
     "output_type": "stream",
     "text": [
      "62/62 [==============================] - 20s 319ms/step - loss: 0.6818 - accuracy: 0.5722 - val_loss: 0.6573 - val_accuracy: 0.6064\n",
      "Epoch 2/20\n",
      "62/62 [==============================] - 14s 224ms/step - loss: 0.6507 - accuracy: 0.6304 - val_loss: 0.6251 - val_accuracy: 0.6780\n",
      "Epoch 3/20\n",
      "62/62 [==============================] - 14s 232ms/step - loss: 0.6320 - accuracy: 0.6473 - val_loss: 0.5700 - val_accuracy: 0.7191\n",
      "Epoch 4/20\n",
      "62/62 [==============================] - 14s 226ms/step - loss: 0.6244 - accuracy: 0.6682 - val_loss: 0.5531 - val_accuracy: 0.7156\n",
      "Epoch 5/20\n",
      "62/62 [==============================] - 14s 224ms/step - loss: 0.5882 - accuracy: 0.6947 - val_loss: 0.4909 - val_accuracy: 0.7674\n",
      "Epoch 6/20\n",
      "62/62 [==============================] - 16s 251ms/step - loss: 0.5396 - accuracy: 0.7361 - val_loss: 0.4712 - val_accuracy: 0.7871\n",
      "Epoch 7/20\n",
      "62/62 [==============================] - 15s 237ms/step - loss: 0.5187 - accuracy: 0.7361 - val_loss: 0.4418 - val_accuracy: 0.8014\n",
      "Epoch 8/20\n",
      "62/62 [==============================] - 15s 233ms/step - loss: 0.5132 - accuracy: 0.7514 - val_loss: 0.4759 - val_accuracy: 0.7818\n",
      "Epoch 9/20\n",
      "62/62 [==============================] - 15s 242ms/step - loss: 0.4910 - accuracy: 0.7682 - val_loss: 0.4105 - val_accuracy: 0.8175\n",
      "Epoch 10/20\n",
      "62/62 [==============================] - 14s 228ms/step - loss: 0.4942 - accuracy: 0.7611 - val_loss: 0.4368 - val_accuracy: 0.8140\n",
      "Epoch 11/20\n",
      "62/62 [==============================] - 15s 235ms/step - loss: 0.4767 - accuracy: 0.7856 - val_loss: 0.3949 - val_accuracy: 0.8265\n",
      "Epoch 12/20\n",
      "62/62 [==============================] - 14s 229ms/step - loss: 0.4844 - accuracy: 0.7693 - val_loss: 0.4254 - val_accuracy: 0.7818\n",
      "Epoch 13/20\n",
      "62/62 [==============================] - 14s 232ms/step - loss: 0.4687 - accuracy: 0.7856 - val_loss: 0.4047 - val_accuracy: 0.8050\n",
      "Epoch 14/20\n",
      "62/62 [==============================] - 14s 227ms/step - loss: 0.4453 - accuracy: 0.7892 - val_loss: 0.3736 - val_accuracy: 0.8408\n",
      "Epoch 15/20\n",
      "62/62 [==============================] - 14s 225ms/step - loss: 0.4400 - accuracy: 0.8019 - val_loss: 0.4244 - val_accuracy: 0.7996\n",
      "Epoch 16/20\n",
      "62/62 [==============================] - 14s 226ms/step - loss: 0.4431 - accuracy: 0.7973 - val_loss: 0.4002 - val_accuracy: 0.8140\n",
      "Epoch 17/20\n",
      "62/62 [==============================] - 14s 228ms/step - loss: 0.4360 - accuracy: 0.7912 - val_loss: 0.3711 - val_accuracy: 0.8265\n",
      "Epoch 18/20\n",
      "62/62 [==============================] - 15s 238ms/step - loss: 0.4334 - accuracy: 0.8004 - val_loss: 0.3823 - val_accuracy: 0.8175\n",
      "Epoch 19/20\n",
      "62/62 [==============================] - 14s 227ms/step - loss: 0.4150 - accuracy: 0.8116 - val_loss: 0.3645 - val_accuracy: 0.8193\n",
      "Epoch 20/20\n",
      "62/62 [==============================] - 14s 227ms/step - loss: 0.4111 - accuracy: 0.8162 - val_loss: 0.3461 - val_accuracy: 0.8676\n"
     ]
    }
   ],
   "source": [
    "#Proses Training Model\n",
    "#merupakan proses dimana machine learning bekerja sehingga algoritma yang sudah kita definisikan dapat mengingat pola dari masing masing kelas pada data yang kita train\n",
    "\n",
    "history = model.fit(\n",
    "    train_generator, #data generator yang sudah kita proses\n",
    "    epochs=20, #banyaknya proses iterasi/ pengulangan pada training\n",
    "    validation_data = val_generator #validation data yang dievaluasi pada setiap epoch berakhir\n",
    ")\n"
   ]
  },
  {
   "cell_type": "code",
   "execution_count": 55,
   "id": "82b59e02",
   "metadata": {},
   "outputs": [
    {
     "name": "stdout",
     "output_type": "stream",
     "text": [
      "18/18 [==============================] - 1s 54ms/step - loss: 0.3461 - accuracy: 0.8676\n"
     ]
    },
    {
     "data": {
      "text/plain": [
       "[0.34608474373817444, 0.8676207661628723]"
      ]
     },
     "execution_count": 55,
     "metadata": {},
     "output_type": "execute_result"
    }
   ],
   "source": [
    "model.evaluate(val_generator)"
   ]
  },
  {
   "cell_type": "code",
   "execution_count": 56,
   "id": "915bb440",
   "metadata": {},
   "outputs": [
    {
     "name": "stdout",
     "output_type": "stream",
     "text": [
      "9/9 [==============================] - 1s 159ms/step - loss: 0.3968 - accuracy: 0.8723\n"
     ]
    },
    {
     "data": {
      "text/plain": [
       "[0.3967929780483246, 0.8723404407501221]"
      ]
     },
     "execution_count": 56,
     "metadata": {},
     "output_type": "execute_result"
    }
   ],
   "source": [
    "model.evaluate(test_generator)"
   ]
  },
  {
   "cell_type": "code",
   "execution_count": 57,
   "id": "8a5280dd",
   "metadata": {},
   "outputs": [
    {
     "name": "stdout",
     "output_type": "stream",
     "text": [
      "62/62 [==============================] - 4s 70ms/step - loss: 0.4304 - accuracy: 0.8025\n"
     ]
    },
    {
     "data": {
      "text/plain": [
       "[0.4304058253765106, 0.8024502396583557]"
      ]
     },
     "execution_count": 57,
     "metadata": {},
     "output_type": "execute_result"
    }
   ],
   "source": [
    "model.evaluate(train_generator)"
   ]
  },
  {
   "cell_type": "markdown",
   "id": "e802ccfc",
   "metadata": {},
   "source": [
    "## Evaluasi"
   ]
  },
  {
   "cell_type": "code",
   "execution_count": 58,
   "id": "6dcab860",
   "metadata": {},
   "outputs": [],
   "source": [
    "#train\n",
    "y_acc_train = history.history['accuracy']\n",
    "y_acc_val = history.history['val_accuracy']\n",
    "\n",
    "#validation\n",
    "y_loss_train = history.history['loss']\n",
    "y_loss_val = history.history['val_loss']\n",
    "\n",
    "#epoch\n",
    "x_ = range(len(y_acc_train))"
   ]
  },
  {
   "cell_type": "code",
   "execution_count": 59,
   "id": "9dea9838",
   "metadata": {},
   "outputs": [
    {
     "data": {
      "image/png": "[encoded data removed]",
      "text/plain": [
       "<Figure size 360x288 with 1 Axes>"
      ]
     },
     "metadata": {},
     "output_type": "display_data"
    },
    {
     "data": {
      "image/png": "[encoded data removed]",
      "text/plain": [
       "<Figure size 360x288 with 1 Axes>"
      ]
     },
     "metadata": {},
     "output_type": "display_data"
    }
   ],
   "source": [
    "plt.figure(1, figsize=(5,4))\n",
    "plt.plot(x_, y_acc_train, c='r', label='Training')\n",
    "plt.plot(x_, y_acc_val, c='b', label='Validation')\n",
    "plt.title('Akurasi')\n",
    "plt.xlabel('Epochs')\n",
    "plt.ylabel('Akurasi')\n",
    "plt.legend()\n",
    "\n",
    "plt.figure(2, figsize=(5,4))\n",
    "plt.plot(x_[3:], y_loss_train[3:], c='r', label='Training')\n",
    "plt.plot(x_[3:], y_loss_val[3:], c='b', label='Validation')\n",
    "plt.title('Loss')\n",
    "plt.xlabel('Epochs')\n",
    "plt.ylabel('Loss')\n",
    "plt.legend()\n",
    "plt.show()"
   ]
  },
  {
   "cell_type": "code",
   "execution_count": 60,
   "id": "86bdf7e2",
   "metadata": {},
   "outputs": [
    {
     "name": "stdout",
     "output_type": "stream",
     "text": [
      "Testing loss     : 0.3967929482460022\n",
      "Testing accuracy : 0.87\n"
     ]
    }
   ],
   "source": [
    "#Evaluasi Menggunakan Data Testing\n",
    "test_evaluate = model.evaluate(test_generator,verbose =0)\n",
    "\n",
    "print(f'Testing loss     : {test_evaluate[0]}')\n",
    "print(f'Testing accuracy : {round(test_evaluate[1],2)}')"
   ]
  },
  {
   "cell_type": "code",
   "execution_count": 65,
   "id": "2144f6f8",
   "metadata": {},
   "outputs": [
    {
     "name": "stdout",
     "output_type": "stream",
     "text": [
      "Saving Model At model\\model.h5...\n"
     ]
    }
   ],
   "source": [
    "#Simpan Model yang sudah di training\n",
    "MODEL_BASE_PATH = \"model\"\n",
    "SAVE_MODEL_NAME = \"model.h5\"\n",
    "save_model_path = os.path.join(MODEL_BASE_PATH, SAVE_MODEL_NAME)\n",
    "if os.path.exists(os.path.join(MODEL_BASE_PATH)) == False:\n",
    "    os.makedirs(os.path.join(MODEL_BASE_PATH))\n",
    "    \n",
    "print('Saving Model At {}...'.format(save_model_path))\n",
    "model.save(save_model_path,include_optimizer=False)"
   ]
  },
  {
   "cell_type": "markdown",
   "id": "139129a0",
   "metadata": {},
   "source": [
    "## Prediksi"
   ]
  },
  {
   "cell_type": "code",
   "execution_count": 66,
   "id": "f0476bcf",
   "metadata": {},
   "outputs": [
    {
     "name": "stdout",
     "output_type": "stream",
     "text": [
      "9/9 [==============================] - 1s 58ms/step\n",
      "[[3.42300594e-01]\n",
      " [1.86124817e-03]\n",
      " [8.96035910e-01]\n",
      " [9.60893810e-01]\n",
      " [5.37668243e-02]\n",
      " [7.94089317e-01]\n",
      " [4.74411398e-01]\n",
      " [9.70976055e-01]\n",
      " [6.36882126e-01]\n",
      " [9.17895317e-01]\n",
      " [1.76582232e-01]\n",
      " [7.60986090e-01]\n",
      " [3.07044741e-02]\n",
      " [8.07171285e-01]\n",
      " [2.84722876e-02]\n",
      " [5.35210036e-03]\n",
      " [8.59317124e-01]\n",
      " [3.49502936e-02]\n",
      " [1.26254710e-03]\n",
      " [7.10194945e-01]\n",
      " [4.35297161e-01]\n",
      " [1.40404910e-01]\n",
      " [1.04390841e-03]\n",
      " [7.28991985e-01]\n",
      " [4.20828432e-01]\n",
      " [3.30225565e-02]\n",
      " [8.83771852e-02]\n",
      " [9.55352545e-01]\n",
      " [2.34962925e-02]\n",
      " [4.98490110e-02]\n",
      " [6.69507325e-01]\n",
      " [8.09128523e-01]\n",
      " [8.28553438e-01]\n",
      " [1.08169056e-01]\n",
      " [7.06471264e-01]\n",
      " [7.99683630e-02]\n",
      " [1.10921850e-02]\n",
      " [8.55083019e-02]\n",
      " [1.03160888e-01]\n",
      " [2.72128373e-01]\n",
      " [3.18509370e-01]\n",
      " [4.32512583e-03]\n",
      " [6.28278032e-03]\n",
      " [9.53583717e-01]\n",
      " [7.77210221e-02]\n",
      " [8.73150229e-01]\n",
      " [3.65324885e-01]\n",
      " [5.26470654e-02]\n",
      " [7.43959725e-01]\n",
      " [5.86850103e-03]\n",
      " [3.97110283e-02]\n",
      " [3.56629677e-02]\n",
      " [2.61408568e-04]\n",
      " [7.04529047e-01]\n",
      " [1.43687557e-02]\n",
      " [4.54640716e-01]\n",
      " [5.72090566e-01]\n",
      " [1.11904234e-01]\n",
      " [7.46163666e-01]\n",
      " [9.45538878e-01]\n",
      " [6.03770256e-01]\n",
      " [9.19272006e-01]\n",
      " [3.22986752e-01]\n",
      " [9.19493496e-01]\n",
      " [4.28590924e-01]\n",
      " [1.02995768e-01]\n",
      " [6.44015908e-01]\n",
      " [9.12228286e-01]\n",
      " [8.54385138e-01]\n",
      " [9.57462341e-02]\n",
      " [9.10261810e-01]\n",
      " [7.46856630e-01]\n",
      " [5.95151819e-02]\n",
      " [5.85848689e-01]\n",
      " [4.82293725e-01]\n",
      " [7.15553463e-02]\n",
      " [3.65758330e-01]\n",
      " [1.19662180e-03]\n",
      " [3.28313500e-01]\n",
      " [9.78462279e-01]\n",
      " [1.09023355e-01]\n",
      " [6.70709074e-01]\n",
      " [9.60713387e-01]\n",
      " [9.43034589e-01]\n",
      " [1.18828043e-01]\n",
      " [9.86270368e-01]\n",
      " [8.33395541e-01]\n",
      " [8.66556525e-01]\n",
      " [1.30359441e-01]\n",
      " [8.90158236e-01]\n",
      " [7.30084777e-01]\n",
      " [1.65170673e-02]\n",
      " [3.34465038e-03]\n",
      " [6.28278032e-03]\n",
      " [9.07071233e-01]\n",
      " [2.58022659e-02]\n",
      " [3.10602516e-01]\n",
      " [1.67917553e-02]\n",
      " [6.71757936e-01]\n",
      " [9.64516699e-01]\n",
      " [5.04900143e-03]\n",
      " [1.64312050e-02]\n",
      " [6.56583846e-01]\n",
      " [2.69891769e-02]\n",
      " [2.08215863e-01]\n",
      " [9.87621009e-01]\n",
      " [7.85535693e-01]\n",
      " [8.79109740e-01]\n",
      " [9.57856402e-02]\n",
      " [2.30661267e-03]\n",
      " [8.60383630e-01]\n",
      " [4.47858423e-01]\n",
      " [1.43709272e-01]\n",
      " [4.78413463e-01]\n",
      " [3.03592354e-01]\n",
      " [4.65630973e-03]\n",
      " [9.08517241e-01]\n",
      " [9.25087035e-01]\n",
      " [8.50362837e-01]\n",
      " [3.94056410e-01]\n",
      " [8.64763200e-01]\n",
      " [8.39343786e-01]\n",
      " [6.49949789e-01]\n",
      " [4.93253142e-01]\n",
      " [8.75336707e-01]\n",
      " [8.21698457e-03]\n",
      " [8.37284565e-01]\n",
      " [6.76978052e-01]\n",
      " [1.42387878e-02]\n",
      " [9.31505978e-01]\n",
      " [8.02552234e-03]\n",
      " [9.90348756e-01]\n",
      " [9.49253261e-01]\n",
      " [9.72840309e-01]\n",
      " [2.67392974e-02]\n",
      " [9.73084033e-01]\n",
      " [4.27948296e-01]\n",
      " [7.86163568e-01]\n",
      " [9.89750922e-01]\n",
      " [7.41279244e-01]\n",
      " [6.38033926e-01]\n",
      " [1.48396701e-01]\n",
      " [2.87173271e-01]\n",
      " [7.07351640e-02]\n",
      " [9.70256388e-01]\n",
      " [4.76417881e-05]\n",
      " [9.81931090e-01]\n",
      " [3.15255165e-01]\n",
      " [9.75215375e-01]\n",
      " [6.47348702e-01]\n",
      " [8.39134991e-01]\n",
      " [9.71739829e-01]\n",
      " [2.73488671e-01]\n",
      " [9.55311418e-01]\n",
      " [8.14037085e-01]\n",
      " [8.32243189e-02]\n",
      " [5.67461364e-02]\n",
      " [1.00328743e-01]\n",
      " [9.81142104e-01]\n",
      " [6.49909079e-01]\n",
      " [2.87879884e-01]\n",
      " [3.29376496e-02]\n",
      " [4.10192162e-02]\n",
      " [6.55349672e-01]\n",
      " [7.54309952e-01]\n",
      " [1.71235725e-01]\n",
      " [7.22577035e-01]\n",
      " [5.11687063e-02]\n",
      " [6.05624244e-02]\n",
      " [9.37260032e-01]\n",
      " [1.58392210e-02]\n",
      " [8.07734728e-01]\n",
      " [6.70551181e-01]\n",
      " [4.01748084e-02]\n",
      " [5.53546362e-02]\n",
      " [1.27382234e-01]\n",
      " [8.62825274e-01]\n",
      " [7.61977494e-01]\n",
      " [6.92782223e-01]\n",
      " [2.04058476e-02]\n",
      " [9.95970845e-01]\n",
      " [7.99378157e-01]\n",
      " [9.60922956e-01]\n",
      " [3.50087076e-01]\n",
      " [9.93517220e-01]\n",
      " [9.45070863e-01]\n",
      " [5.85136116e-01]\n",
      " [7.15567097e-02]\n",
      " [3.59746933e-01]\n",
      " [7.67140910e-02]\n",
      " [9.93608475e-01]\n",
      " [9.72263396e-01]\n",
      " [7.21532881e-01]\n",
      " [8.80924642e-01]\n",
      " [4.98137288e-02]\n",
      " [3.36218206e-03]\n",
      " [4.19990450e-01]\n",
      " [1.07746474e-01]\n",
      " [5.90137541e-01]\n",
      " [3.49481791e-01]\n",
      " [2.97243029e-01]\n",
      " [9.97904122e-01]\n",
      " [8.46646547e-01]\n",
      " [5.49382687e-01]\n",
      " [6.20023683e-02]\n",
      " [6.80785060e-01]\n",
      " [7.91504741e-01]\n",
      " [3.84384394e-01]\n",
      " [7.48140812e-01]\n",
      " [3.34700048e-01]\n",
      " [1.27161585e-03]\n",
      " [7.10476041e-01]\n",
      " [9.98885751e-01]\n",
      " [2.96912938e-01]\n",
      " [4.12634062e-03]\n",
      " [4.87864017e-01]\n",
      " [6.81696117e-01]\n",
      " [2.91909188e-01]\n",
      " [1.51732281e-01]\n",
      " [9.27640915e-01]\n",
      " [5.49881496e-02]\n",
      " [6.23634219e-01]\n",
      " [1.48993075e-01]\n",
      " [8.88158977e-01]\n",
      " [4.74125534e-01]\n",
      " [6.04802728e-01]\n",
      " [4.82589424e-01]\n",
      " [3.87002051e-01]\n",
      " [6.06516838e-01]\n",
      " [1.59297585e-01]\n",
      " [9.07985091e-01]\n",
      " [9.08662558e-01]\n",
      " [9.74990547e-01]\n",
      " [8.91110003e-01]\n",
      " [8.90016973e-01]\n",
      " [8.85388494e-01]\n",
      " [3.53766501e-01]\n",
      " [1.63924783e-01]\n",
      " [2.59532273e-01]\n",
      " [4.77729559e-01]\n",
      " [8.10644746e-01]\n",
      " [8.34064424e-01]\n",
      " [2.11453170e-01]\n",
      " [7.63581574e-01]\n",
      " [9.00156498e-01]\n",
      " [9.98351395e-01]\n",
      " [8.05759251e-01]\n",
      " [4.40645069e-01]\n",
      " [8.37642372e-01]\n",
      " [9.32382524e-01]\n",
      " [3.04361522e-01]\n",
      " [2.21886602e-03]\n",
      " [9.82558489e-01]\n",
      " [4.38259602e-01]\n",
      " [9.18334067e-01]\n",
      " [7.32566565e-02]\n",
      " [2.82917991e-02]\n",
      " [9.82558489e-01]\n",
      " [6.42086519e-03]\n",
      " [9.20009375e-01]\n",
      " [1.99509952e-02]\n",
      " [6.05108798e-01]\n",
      " [6.01220727e-02]\n",
      " [4.81443882e-01]\n",
      " [8.97021592e-01]\n",
      " [6.26567841e-01]\n",
      " [9.57439303e-01]\n",
      " [8.25510025e-01]\n",
      " [2.40316410e-02]\n",
      " [8.81938994e-01]\n",
      " [1.11786142e-01]\n",
      " [8.93550456e-01]\n",
      " [9.83064711e-01]\n",
      " [8.22256226e-03]\n",
      " [5.87072643e-03]\n",
      " [5.39401114e-01]\n",
      " [1.62648991e-01]\n",
      " [9.84363377e-01]\n",
      " [4.10348475e-01]\n",
      " [7.96307921e-01]\n",
      " [2.70557493e-01]\n",
      " [6.08434975e-01]]\n"
     ]
    }
   ],
   "source": [
    "result = model.predict(test_generator)\n",
    "print(result)\n"
   ]
  },
  {
   "cell_type": "code",
   "execution_count": null,
   "id": "e130c78f",
   "metadata": {},
   "outputs": [],
   "source": []
  }
 ],
 "metadata": {
  "kernelspec": {
   "display_name": "Python 3 (ipykernel)",
   "language": "python",
   "name": "python3"
  },
  "language_info": {
   "codemirror_mode": {
    "name": "ipython",
    "version": 3
   },
   "file_extension": ".py",
   "mimetype": "text/x-python",
   "name": "python",
   "nbconvert_exporter": "python",
   "pygments_lexer": "ipython3",
   "version": "3.9.12"
  }
 },
 "nbformat": 4,
 "nbformat_minor": 5
}
